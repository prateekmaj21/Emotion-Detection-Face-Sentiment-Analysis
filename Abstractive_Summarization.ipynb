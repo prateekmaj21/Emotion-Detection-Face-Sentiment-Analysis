{
  "nbformat": 4,
  "nbformat_minor": 0,
  "metadata": {
    "colab": {
      "provenance": []
    },
    "kernelspec": {
      "name": "python3",
      "display_name": "Python 3"
    },
    "language_info": {
      "name": "python"
    }
  },
  "cells": [
    {
      "cell_type": "code",
      "execution_count": 26,
      "metadata": {
        "id": "FR1qOniJQS-d"
      },
      "outputs": [],
      "source": [
        "text = \"\"\"Customer Feedback:\n",
        "\n",
        "The customer expressed satisfaction with the overall supply of products but mentioned occasional delays in the supply chain during peak demand periods.\n",
        "They appreciated the quality of Reliance's petrochemical products, especially the high-grade polymers.\n",
        "A few minor issues regarding packaging were brought up, which need to be addressed.\n",
        "Customer's Future Requirements:\n",
        "\n",
        "The customer anticipates increased demand for polymer products in the next quarter due to a new project launch.\n",
        "They are interested in exploring Reliance's sustainable and green petrochemical offerings to meet their sustainability goals.\n",
        "Reliance Petrochemicals’ New Solutions:\n",
        "\n",
        "Introduced the customer to Reliance’s new line of biodegradable plastics and high-performance elastomers.\n",
        "Provided a demo of the latest product enhancements and technical specifications.\n",
        "Supply Chain & Delivery Commitments:\n",
        "\n",
        "Discussion focused on how Reliance can ensure more consistent delivery during peak seasons.\n",
        "Proposed a real-time tracking system for better supply chain visibility, which the customer showed interest in.\n",
        "Collaboration Opportunities:\n",
        "\n",
        "The customer is open to a potential partnership for a joint research project in developing specialized polymers.\n",
        "Agreed to follow up with the technical teams on both sides for a deeper exploration.\n",
        "Action Items:\n",
        "For Reliance Petrochemicals:\n",
        "\n",
        "Investigate and resolve the packaging issues mentioned by the customer.\n",
        "Prepare a proposal for improving supply chain efficiency, especially during high-demand periods.\n",
        "Schedule a technical meeting to explore the research collaboration on specialized polymers.\n",
        "For the Customer:\n",
        "\n",
        "Provide Reliance with their quarterly demand forecast to help plan production and delivery schedules.\n",
        "Share sustainability requirements for products they are interested in, especially the biodegradable range.\"\"\""
      ]
    },
    {
      "cell_type": "markdown",
      "source": [
        "**Google T5**"
      ],
      "metadata": {
        "id": "lmPqMqMXXuVs"
      }
    },
    {
      "cell_type": "code",
      "source": [
        "import torch\n",
        "\n",
        "from transformers import AutoTokenizer, AutoModelWithLMHead"
      ],
      "metadata": {
        "id": "LcZq6WKLQbXK"
      },
      "execution_count": 27,
      "outputs": []
    },
    {
      "cell_type": "code",
      "source": [
        "tokenizer = AutoTokenizer.from_pretrained('t5-base')\n",
        "model = AutoModelWithLMHead.from_pretrained('t5-base', return_dict=True)"
      ],
      "metadata": {
        "colab": {
          "base_uri": "https://localhost:8080/"
        },
        "id": "OlzWR327QfiI",
        "outputId": "2620bdef-04fd-42ac-aa58-95eb8bdf62a8"
      },
      "execution_count": 28,
      "outputs": [
        {
          "output_type": "stream",
          "name": "stderr",
          "text": [
            "/usr/local/lib/python3.10/dist-packages/transformers/tokenization_utils_base.py:1601: FutureWarning: `clean_up_tokenization_spaces` was not set. It will be set to `True` by default. This behavior will be depracted in transformers v4.45, and will be then set to `False` by default. For more details check this issue: https://github.com/huggingface/transformers/issues/31884\n",
            "  warnings.warn(\n",
            "/usr/local/lib/python3.10/dist-packages/transformers/models/auto/modeling_auto.py:1748: FutureWarning: The class `AutoModelWithLMHead` is deprecated and will be removed in a future version. Please use `AutoModelForCausalLM` for causal language models, `AutoModelForMaskedLM` for masked language models and `AutoModelForSeq2SeqLM` for encoder-decoder models.\n",
            "  warnings.warn(\n"
          ]
        }
      ]
    },
    {
      "cell_type": "code",
      "source": [
        "inputs = tokenizer.encode(\"what are the key ideas and summarize important points: \" + text,\n",
        "return_tensors='pt',\n",
        "max_length=512,\n",
        "truncation=True)"
      ],
      "metadata": {
        "id": "J3OnyJWIQtkH"
      },
      "execution_count": 46,
      "outputs": []
    },
    {
      "cell_type": "code",
      "source": [
        "summary_ids = model.generate(inputs, max_length=300, min_length=250)"
      ],
      "metadata": {
        "id": "MiFzRL1dQ8p2"
      },
      "execution_count": 52,
      "outputs": []
    },
    {
      "cell_type": "code",
      "source": [
        "summary = tokenizer.decode(summary_ids[0])"
      ],
      "metadata": {
        "id": "KE5uLfcPRAAQ"
      },
      "execution_count": 53,
      "outputs": []
    },
    {
      "cell_type": "code",
      "source": [
        "summary"
      ],
      "metadata": {
        "colab": {
          "base_uri": "https://localhost:8080/",
          "height": 123
        },
        "id": "8iIay1sMRHDZ",
        "outputId": "5af6088f-33b2-45ec-e521-163b0a23e177"
      },
      "execution_count": 54,
      "outputs": [
        {
          "output_type": "execute_result",
          "data": {
            "text/plain": [
              "'<pad> customer expressed satisfaction with the overall supply of products but mentioned occasional delays in the supply chain during peak demand periods. they appreciated the quality of Reliance\\'s petrochemical products, especially the high-grade polymers. a few minor issues regarding packaging were brought up, which need to be addressed. customer is interested in exploring Reliance\\'s sustainable and green petrochemical offerings to meet their sustainability goals. a new project launch is expected to increase demand for polymer products in the next quarter. a<extra_id_1><extra_id_1><extra_id_1><extra_id_1><extra_id_1><extra_id_1><extra_id_1><extra_id_1><extra_id_1><extra_id_1><extra_id_1><extra_id_1><extra_id_1><extra_id_1><extra_id_1><extra_id_1><extra_id_1><extra_id_1><extra_id_1><extra_id_1><extra_id_1><extra_id_1><extra_id_1><extra_id_1><extra_id_1> <extra_id_1> <extra_id_1> <extra_id_1> <extra_id_1> <extra_id_1> <extra_id_1> <extra_id_1> <extra_id_1> <extra_id_1> <extra_id_1> <extra_id_1> <extra_id_1> <extra_id_1> <extra_id_1> <extra_id_1> <extra_id_1> <extra_id_1> <extra_id_1> <extra_id_1> <extra_id_1> <extra_id_1> <extra_id_1>                                              \" \" \" \" \" \" \" \" \" \" \" \" \" \" \" \" \" \" \" \" \" \"</s>'"
            ],
            "application/vnd.google.colaboratory.intrinsic+json": {
              "type": "string"
            }
          },
          "metadata": {},
          "execution_count": 54
        }
      ]
    },
    {
      "cell_type": "code",
      "source": [
        "import re\n",
        "# Remove < > content from the summary\n",
        "summary = re.sub('<[^>]+>', '', summary)\n",
        "summary"
      ],
      "metadata": {
        "colab": {
          "base_uri": "https://localhost:8080/",
          "height": 88
        },
        "id": "IVCXxouKRID1",
        "outputId": "469d4534-6cc5-41da-d589-6119cf5e8175"
      },
      "execution_count": 55,
      "outputs": [
        {
          "output_type": "execute_result",
          "data": {
            "text/plain": [
              "' customer expressed satisfaction with the overall supply of products but mentioned occasional delays in the supply chain during peak demand periods. they appreciated the quality of Reliance\\'s petrochemical products, especially the high-grade polymers. a few minor issues regarding packaging were brought up, which need to be addressed. customer is interested in exploring Reliance\\'s sustainable and green petrochemical offerings to meet their sustainability goals. a new project launch is expected to increase demand for polymer products in the next quarter. a                                                                    \" \" \" \" \" \" \" \" \" \" \" \" \" \" \" \" \" \" \" \" \" \"'"
            ],
            "application/vnd.google.colaboratory.intrinsic+json": {
              "type": "string"
            }
          },
          "metadata": {},
          "execution_count": 55
        }
      ]
    },
    {
      "cell_type": "code",
      "source": [
        "from textblob import TextBlob\n",
        "blob = TextBlob(summary)\n",
        "summary = str(blob.correct())\n",
        "summary"
      ],
      "metadata": {
        "colab": {
          "base_uri": "https://localhost:8080/",
          "height": 88
        },
        "id": "waDkSXi9TWQU",
        "outputId": "ece4f671-e6c5-4a09-c730-78ad58cde3b0"
      },
      "execution_count": 56,
      "outputs": [
        {
          "output_type": "execute_result",
          "data": {
            "text/plain": [
              "' customer expressed satisfaction with the overall supply of products but mentioned occasional delays in the supply chain during peak demand periods. they appreciated the quality of Reliance\\'s petrochemical products, especially the high-grade polymer. a few minor issues regarding packing were brought up, which need to be addressed. customer is interested in exploring Reliance\\'s sustainable and green petrochemical offerings to meet their sustainability goals. a new project launch is expected to increase demand for polymer products in the next quarter. a                                                                    \" \" \" \" \" \" \" \" \" \" \" \" \" \" \" \" \" \" \" \" \" \"'"
            ],
            "application/vnd.google.colaboratory.intrinsic+json": {
              "type": "string"
            }
          },
          "metadata": {},
          "execution_count": 56
        }
      ]
    },
    {
      "cell_type": "code",
      "source": [],
      "metadata": {
        "id": "NNQam5Z9UkYl"
      },
      "execution_count": 56,
      "outputs": []
    }
  ]
}